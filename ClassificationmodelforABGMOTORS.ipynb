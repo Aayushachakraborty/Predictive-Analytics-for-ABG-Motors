{
 "cells": [
  {
   "cell_type": "code",
   "execution_count": 54,
   "id": "76dd44c8-5a98-4f3f-90e1-669e65a0b4a6",
   "metadata": {},
   "outputs": [],
   "source": [
    "#PROJECT- Classification model for ABG motors using predictive analytics to enter the Indian Market\n",
    "#Aayusha Chakraborty "
   ]
  },
  {
   "cell_type": "code",
   "execution_count": 3,
   "id": "aadc4f29-55a7-4b1c-8fa6-ddce0d945843",
   "metadata": {},
   "outputs": [],
   "source": [
    "import pandas as pd\n",
    "import numpy as np\n",
    "from sklearn.model_selection import train_test_split\n",
    "from sklearn.preprocessing import StandardScaler\n",
    "from sklearn.linear_model import LogisticRegression\n",
    "from sklearn.metrics import accuracy_score, confusion_matrix, classification_report, roc_auc_score"
   ]
  },
  {
   "cell_type": "code",
   "execution_count": 4,
   "id": "7b9d35f1-b3b2-4873-94bc-0633005ca5e2",
   "metadata": {},
   "outputs": [],
   "source": [
    "# First we will load the excel file\n",
    "file_path = r\"C:\\Users\\chakr\\OneDrive\\Documents\\Capstone.datascience1.xlsx\"\n",
    "\n",
    "# Loading specific sheets into DataFrames\n",
    "indian_df = pd.read_excel(file_path, sheet_name='indiandataset ')\n",
    "japanese_df = pd.read_excel(file_path, sheet_name='japanesedataset ')\n",
    "\n"
   ]
  },
  {
   "cell_type": "code",
   "execution_count": 5,
   "id": "b9c29da3-c35f-4aa2-8401-52a25ebb3868",
   "metadata": {},
   "outputs": [
    {
     "name": "stdout",
     "output_type": "stream",
     "text": [
      "Indian Dataset after dropping missing values:\n",
      "           ID  CURR_AGE GENDER  ANN_INCOME             DT_MAINT\n",
      "0  20710B05XL        54      M     1425390            4/20/2018\n",
      "1  89602T51HX        47      M     1678954  2018-08-06 00:00:00\n",
      "2  70190Z52IP        60      M      931624            7/31/2017\n",
      "3  25623V15MU        55      F     1106320            7/31/2017\n",
      "4  36230I68CE        32      F      748465            1/27/2019\n",
      "\n",
      "Japanese Dataset after dropping missing values:\n",
      "Empty DataFrame\n",
      "Columns: [ID, CURR_AGE, GENDER, ANN_INCOME, AGE_CAR, PURCHASE, Unnamed: 6, Unnamed: 7, Unnamed: 8]\n",
      "Index: []\n"
     ]
    }
   ],
   "source": [
    "# Handle missing values (if any)\n",
    "indian_df = indian_df.dropna()  # Drop rows with missing values in the Indian dataset\n",
    "japanese_df = japanese_df.dropna()  # Drop rows with missing values in the Japanese dataset\n",
    "\n",
    "# Display the first few rows of each DataFrame to verify\n",
    "print(\"Indian Dataset after dropping missing values:\")\n",
    "print(indian_df.head())\n",
    "\n",
    "print(\"\\nJapanese Dataset after dropping missing values:\")\n",
    "print(japanese_df.head())\n"
   ]
  },
  {
   "cell_type": "code",
   "execution_count": 6,
   "id": "1ec91ad6-9762-479a-870a-b5b8f3bda01b",
   "metadata": {},
   "outputs": [
    {
     "name": "stdout",
     "output_type": "stream",
     "text": [
      "Indian Dataset Columns: Index(['ID', 'CURR_AGE', 'GENDER', 'ANN_INCOME', 'DT_MAINT'], dtype='object')\n",
      "Japanese Dataset Columns: Index(['ID', 'CURR_AGE', 'GENDER', 'ANN_INCOME', 'AGE_CAR', 'PURCHASE',\n",
      "       'Unnamed: 6', 'Unnamed: 7', 'Unnamed: 8'],\n",
      "      dtype='object')\n",
      "   AGE_CAR  age_car_segment\n",
      "0      439                3\n",
      "1      283                2\n",
      "2      390                3\n",
      "3      475                3\n",
      "4      497                3\n"
     ]
    }
   ],
   "source": [
    "indian_df = pd.read_excel(file_path, sheet_name='indiandataset ')\n",
    "japanese_df = pd.read_excel(file_path, sheet_name='japanesedataset ')\n",
    "\n",
    "# Strip any leading or trailing spaces from column names\n",
    "indian_df.columns = indian_df.columns.str.strip()\n",
    "japanese_df.columns = japanese_df.columns.str.strip()\n",
    "\n",
    "# Verify column names\n",
    "print(\"Indian Dataset Columns:\", indian_df.columns)\n",
    "print(\"Japanese Dataset Columns:\", japanese_df.columns)\n",
    "\n",
    "# We have done the segmentation of the age_car provided in the dataset into four categories\n",
    "def segment_age_car(age_car):\n",
    "    if age_car < 200:\n",
    "        return 1\n",
    "    elif 200 <= age_car <= 360:\n",
    "        return 2\n",
    "    elif 360 < age_car <= 500:\n",
    "        return 3\n",
    "    else:\n",
    "        return 4\n",
    "\n",
    "# Applied the segmentation to the 'AGE_CAR' column in the Japanese dataset\n",
    "if 'AGE_CAR' in japanese_df.columns:\n",
    "    japanese_df['age_car_segment'] = japanese_df['AGE_CAR'].apply(segment_age_car)\n",
    "    print(japanese_df[['AGE_CAR', 'age_car_segment']].head())\n",
    "else:\n",
    "    print(\"Column 'AGE_CAR' does not exist in the Japanese dataset.\")"
   ]
  },
  {
   "cell_type": "code",
   "execution_count": 7,
   "id": "3a0bb970-09b5-4d2c-a207-68851f49048b",
   "metadata": {},
   "outputs": [
    {
     "name": "stdout",
     "output_type": "stream",
     "text": [
      "   ANN_INCOME  ANN_INCOME_INR\n",
      "0      445344       285020.16\n",
      "1      107634        68885.76\n",
      "2      502787       321783.68\n",
      "3      585664       374824.96\n",
      "4      705723       451662.72\n"
     ]
    }
   ],
   "source": [
    "# We have the annual income of the customers in currency yen, so we have converted into inr with a conversion rate of 0.64 as of year 2019\n",
    "conversion_rate = 0.64\n",
    "\n",
    "# Convert 'ANN_INCOME' from Yen to INR\n",
    "japanese_df['ANN_INCOME_INR'] = japanese_df['ANN_INCOME'] * conversion_rate\n",
    "\n",
    "# Display the first few rows to check the conversion\n",
    "print(japanese_df[['ANN_INCOME', 'ANN_INCOME_INR']].head())\n"
   ]
  },
  {
   "cell_type": "code",
   "execution_count": 8,
   "id": "71f806f4-88fa-4605-bbf6-a8a96f49f0c3",
   "metadata": {},
   "outputs": [
    {
     "name": "stdout",
     "output_type": "stream",
     "text": [
      "Maximum Annual Income in INR: 511981.44\n",
      "Minimum Annual Income in INR: 44856.96\n"
     ]
    }
   ],
   "source": [
    "# Calculated maximum and minimum values to calculate the range \n",
    "max_income_inr = japanese_df['ANN_INCOME_INR'].max()\n",
    "min_income_inr = japanese_df['ANN_INCOME_INR'].min()\n",
    "\n",
    "# Print the results\n",
    "print(f\"Maximum Annual Income in INR: {max_income_inr}\")\n",
    "print(f\"Minimum Annual Income in INR: {min_income_inr}\")"
   ]
  },
  {
   "cell_type": "code",
   "execution_count": 9,
   "id": "0091597d-8d09-4f7d-b56e-327c1c313803",
   "metadata": {},
   "outputs": [
    {
     "name": "stdout",
     "output_type": "stream",
     "text": [
      "   ANN_INCOME_INR  income_group\n",
      "0       285020.16             3\n",
      "1        68885.76             1\n",
      "2       321783.68             4\n",
      "3       374824.96             4\n",
      "4       451662.72             4\n"
     ]
    }
   ],
   "source": [
    "# classify income groups based on the INR values for japanese dataset \n",
    "def classify_income(income_inr):\n",
    "    if income_inr <= 100000:\n",
    "        return 1  # Low income\n",
    "    elif 100000 < income_inr <= 200000:\n",
    "        return 2  # Lower-middle income\n",
    "    elif 200000 < income_inr <= 300000:\n",
    "        return 3  # Upper-middle income\n",
    "    else:\n",
    "        return 4  # High income\n",
    "\n",
    "# Apply the classification to the Japanese dataset\n",
    "japanese_df['income_group'] = japanese_df['ANN_INCOME_INR'].apply(classify_income)\n",
    "\n",
    "# Check the classification\n",
    "print(japanese_df[['ANN_INCOME_INR', 'income_group']].head())\n"
   ]
  },
  {
   "cell_type": "code",
   "execution_count": 10,
   "id": "090bc24e-cf91-42b5-acb3-b537270f19d3",
   "metadata": {},
   "outputs": [
    {
     "name": "stdout",
     "output_type": "stream",
     "text": [
      "Maximum Age in Japanese Dataset: 65\n",
      "Minimum Age in Japanese Dataset: 25\n"
     ]
    }
   ],
   "source": [
    "# Calculate maximum and minimum age in the Japanese dataset\n",
    "max_age_japanese = japanese_df['CURR_AGE'].max()\n",
    "min_age_japanese = japanese_df['CURR_AGE'].min()\n",
    "\n",
    "# Print the results\n",
    "print(f\"Maximum Age in Japanese Dataset: {max_age_japanese}\")\n",
    "print(f\"Minimum Age in Japanese Dataset: {min_age_japanese}\")\n"
   ]
  },
  {
   "cell_type": "code",
   "execution_count": 11,
   "id": "effdc0d2-a3e6-41af-a6fa-dc27d112b004",
   "metadata": {},
   "outputs": [
    {
     "name": "stdout",
     "output_type": "stream",
     "text": [
      "Maximum Age in indian Dataset: 65\n",
      "Minimum Age in indian Dataset: 25\n"
     ]
    }
   ],
   "source": [
    "# Calculate maximum and minimum age in the indian dataset\n",
    "max_age_indian = indian_df['CURR_AGE'].max()\n",
    "min_age_indian = indian_df['CURR_AGE'].min()\n",
    "\n",
    "# Print the results\n",
    "print(f\"Maximum Age in indian Dataset: {max_age_indian}\")\n",
    "print(f\"Minimum Age in indian Dataset: {min_age_indian}\")"
   ]
  },
  {
   "cell_type": "code",
   "execution_count": 12,
   "id": "1273a614-bf10-45c1-b455-f3fb87e0665d",
   "metadata": {},
   "outputs": [
    {
     "name": "stdout",
     "output_type": "stream",
     "text": [
      "   CURR_AGE  age_group\n",
      "0        54          3\n",
      "1        47          3\n",
      "2        60          4\n",
      "3        55          4\n",
      "4        32          1\n"
     ]
    }
   ],
   "source": [
    "# Here we have classified age into four categories:\n",
    "def classify_age_group(age):\n",
    "    if 25 <= age < 35:\n",
    "        return 1\n",
    "    elif 35 <= age < 45:\n",
    "        return 2\n",
    "    elif 45 <= age < 55:\n",
    "        return 3\n",
    "    elif 55 <= age <= 65:\n",
    "        return 4\n",
    "    else:\n",
    "        return None  # This handles any unexpected values\n",
    "\n",
    "# Apply the classification to the 'CURR_AGE' column\n",
    "indian_df['age_group'] = indian_df['CURR_AGE'].apply(classify_age_group)\n",
    "\n",
    "# Check the new classification\n",
    "print(indian_df[['CURR_AGE', 'age_group']].head())\n"
   ]
  },
  {
   "cell_type": "code",
   "execution_count": 13,
   "id": "fb41be93-5533-47a5-9698-a14a62b5b94f",
   "metadata": {},
   "outputs": [
    {
     "name": "stdout",
     "output_type": "stream",
     "text": [
      "   CURR_AGE  age_group\n",
      "0        50          3\n",
      "1        35          2\n",
      "2        59          4\n",
      "3        43          2\n",
      "4        39          2\n"
     ]
    }
   ],
   "source": [
    "def classify_age_group(age):\n",
    "    if 25 <= age < 35:\n",
    "        return 1\n",
    "    elif 35 <= age < 45:\n",
    "        return 2\n",
    "    elif 45 <= age < 55:\n",
    "        return 3\n",
    "    elif 55 <= age <= 65:\n",
    "        return 4\n",
    "    else:\n",
    "        return None  # This handles any unexpected values\n",
    "\n",
    "# Apply the classification to the 'CURR_AGE' column\n",
    "japanese_df['age_group'] = japanese_df['CURR_AGE'].apply(classify_age_group)\n",
    "\n",
    "# Check the new classification\n",
    "print(japanese_df[['CURR_AGE', 'age_group']].head())"
   ]
  },
  {
   "cell_type": "code",
   "execution_count": 14,
   "id": "40c17418-089f-4e3d-85f1-c0a987209db2",
   "metadata": {},
   "outputs": [
    {
     "name": "stdout",
     "output_type": "stream",
     "text": [
      "Indian Dataset - GENDER and gender_numeric:\n",
      "  GENDER  gender_numeric\n",
      "0      M               0\n",
      "1      M               0\n",
      "2      M               0\n",
      "3      F               1\n",
      "4      F               1\n",
      "Japanese Dataset - GENDER and gender_numeric:\n",
      "  GENDER  gender_numeric\n",
      "0      M               0\n",
      "1      M               0\n",
      "2      F               1\n",
      "3      M               0\n",
      "4      F               1\n"
     ]
    }
   ],
   "source": [
    "# Here we have converted the string value into binary of the gender column \n",
    "def convert_gender_indian(gender):\n",
    "    if gender == 'M':\n",
    "        return 0\n",
    "    elif gender == 'F':\n",
    "        return 1\n",
    "    else:\n",
    "        return None  # Handle unexpected values\n",
    "\n",
    "# Apply the conversion to the Indian dataset\n",
    "indian_df['gender_numeric'] = indian_df['GENDER'].apply(convert_gender_indian)\n",
    "\n",
    "# Define a function to convert gender into numerical values for the Japanese dataset\n",
    "def convert_gender_japanese(gender):\n",
    "    if gender == 'M':\n",
    "        return 0\n",
    "    elif gender == 'F':\n",
    "        return 1\n",
    "    else:\n",
    "        return None  # Handle unexpected values\n",
    "\n",
    "# Apply the conversion to the Japanese dataset\n",
    "japanese_df['gender_numeric'] = japanese_df['GENDER'].apply(convert_gender_japanese)\n",
    "\n",
    "# Check the new columns\n",
    "print(\"Indian Dataset - GENDER and gender_numeric:\")\n",
    "print(indian_df[['GENDER', 'gender_numeric']].head())\n",
    "\n",
    "print(\"Japanese Dataset - GENDER and gender_numeric:\")\n",
    "print(japanese_df[['GENDER', 'gender_numeric']].head())\n"
   ]
  },
  {
   "cell_type": "code",
   "execution_count": 23,
   "id": "6924a90e-f0a3-4580-ad84-6d236b7c5e41",
   "metadata": {},
   "outputs": [
    {
     "name": "stdout",
     "output_type": "stream",
     "text": [
      "Maximum Annual Income: 1999989\n",
      "Minimum Annual Income: 300033\n"
     ]
    }
   ],
   "source": [
    "# Calculate the maximum and minimum of the annual income\n",
    "max_income = indian_df['ANN_INCOME'].max()\n",
    "min_income = indian_df['ANN_INCOME'].min()\n",
    "\n",
    "print(f\"Maximum Annual Income: {max_income}\")\n",
    "print(f\"Minimum Annual Income: {min_income}\")\n"
   ]
  },
  {
   "cell_type": "code",
   "execution_count": 24,
   "id": "8957bc00-7c87-4f3b-815e-528c95742242",
   "metadata": {},
   "outputs": [
    {
     "name": "stdout",
     "output_type": "stream",
     "text": [
      "           ID   DT_MAINT  age_car\n",
      "0  20710B05XL 2018-04-20      443\n",
      "1  89602T51HX 2018-08-06      335\n",
      "2  70190Z52IP 2017-07-31      706\n",
      "3  25623V15MU 2017-07-31      706\n",
      "4  36230I68CE 2019-01-27      161\n"
     ]
    }
   ],
   "source": [
    "# Convert DT_MAINT to datetime format (if not already in datetime)\n",
    "indian_df['DT_MAINT'] = pd.to_datetime(indian_df['DT_MAINT'], errors='coerce')\n",
    "\n",
    "# Define the reference date (7th July 2019)\n",
    "reference_date = pd.to_datetime('2019-07-07')\n",
    "\n",
    "# Calculate the age of the car by subtracting DT_MAINT from the reference date\n",
    "# The result will be in days, so we can divide by 365 to get years\n",
    "indian_df['age_car'] = (reference_date - indian_df['DT_MAINT']).dt.days\n",
    "\n",
    "# Display the updated dataframe with the new age_car column\n",
    "print(indian_df[['ID', 'DT_MAINT', 'age_car']].head())\n"
   ]
  },
  {
   "cell_type": "code",
   "execution_count": 25,
   "id": "124479ac-9fe0-4d79-a194-ea8a953bdaca",
   "metadata": {},
   "outputs": [
    {
     "name": "stdout",
     "output_type": "stream",
     "text": [
      "           ID   DT_MAINT  age_car  age_car_segment\n",
      "0  20710B05XL 2018-04-20      443                3\n",
      "1  89602T51HX 2018-08-06      335                2\n",
      "2  70190Z52IP 2017-07-31      706                4\n",
      "3  25623V15MU 2017-07-31      706                4\n",
      "4  36230I68CE 2019-01-27      161                1\n"
     ]
    }
   ],
   "source": [
    "# Define a function to segment the age_car values\n",
    "def segment_age_car(age):\n",
    "    if age < 200:\n",
    "        return 1\n",
    "    elif 200 <= age <= 360:\n",
    "        return 2\n",
    "    elif 360 < age <= 500:\n",
    "        return 3\n",
    "    else:\n",
    "        return 4\n",
    "\n",
    "# Apply the function to the age_car column and create a new column with the segments\n",
    "indian_df['age_car_segment'] = indian_df['age_car'].apply(segment_age_car)\n",
    "\n",
    "# Display the updated dataframe with the age_car and age_car_segment columns\n",
    "print(indian_df[['ID', 'DT_MAINT', 'age_car', 'age_car_segment']].head())\n"
   ]
  },
  {
   "cell_type": "code",
   "execution_count": 26,
   "id": "aeb4567a-77dc-4507-9e95-c5c83327175a",
   "metadata": {},
   "outputs": [
    {
     "name": "stdout",
     "output_type": "stream",
     "text": [
      "           ID  CURR_AGE  age_group\n",
      "0  20710B05XL        54          3\n",
      "1  89602T51HX        47          3\n",
      "2  70190Z52IP        60          4\n",
      "3  25623V15MU        55          4\n",
      "4  36230I68CE        32          1\n"
     ]
    }
   ],
   "source": [
    "# Define a function to classify current age into age groups\n",
    "def classify_age_group(age):\n",
    "    if 25 <= age < 35:\n",
    "        return 1\n",
    "    elif 35 <= age < 45:\n",
    "        return 2\n",
    "    elif 45 <= age < 55:\n",
    "        return 3\n",
    "    elif 55 <= age <= 65:\n",
    "        return 4\n",
    "\n",
    "# Apply the function to the CURR_AGE column and create a new column 'age_group'\n",
    "indian_df['age_group'] = indian_df['CURR_AGE'].apply(classify_age_group)\n",
    "\n",
    "# Display the updated dataframe with CURR_AGE and age_group columns\n",
    "print(indian_df[['ID', 'CURR_AGE', 'age_group']].head())\n",
    "\n"
   ]
  },
  {
   "cell_type": "code",
   "execution_count": 27,
   "id": "35b2680d-fc9e-4ca6-9853-1ddf06562d45",
   "metadata": {},
   "outputs": [
    {
     "name": "stdout",
     "output_type": "stream",
     "text": [
      "           ID  CURR_AGE GENDER  ANN_INCOME   DT_MAINT  age_group  \\\n",
      "0  20710B05XL        54      M     1425390 2018-04-20          3   \n",
      "1  89602T51HX        47      M     1678954 2018-08-06          3   \n",
      "2  70190Z52IP        60      M      931624 2017-07-31          4   \n",
      "3  25623V15MU        55      F     1106320 2017-07-31          4   \n",
      "4  36230I68CE        32      F      748465 2019-01-27          1   \n",
      "5  11264G01HZ        48      F     1051927 2018-11-24          3   \n",
      "6  74250S23UO        26      F     1076402 2018-09-22          1   \n",
      "7  26735J66DB        45      F     1481949 2018-05-04          3   \n",
      "8  93404P60ED        55      M     1725607 2018-02-01          4   \n",
      "9  56557A36QV        64      F      312323 2018-04-23          4   \n",
      "\n",
      "   gender_numeric  age_car  age_car_segment  \n",
      "0               0      443                3  \n",
      "1               0      335                2  \n",
      "2               0      706                4  \n",
      "3               1      706                4  \n",
      "4               1      161                1  \n",
      "5               1      225                2  \n",
      "6               1      288                2  \n",
      "7               1      429                3  \n",
      "8               0      521                4  \n",
      "9               1      440                3  \n"
     ]
    }
   ],
   "source": [
    "print(indian_df.head(10))\n"
   ]
  },
  {
   "cell_type": "code",
   "execution_count": 28,
   "id": "19dff91b-f0c8-4f0d-b976-d8d6ca83b9f5",
   "metadata": {},
   "outputs": [
    {
     "name": "stdout",
     "output_type": "stream",
     "text": [
      "   ANN_INCOME  income_standardized\n",
      "0     1425390             0.692730\n",
      "1     1678954             1.327512\n",
      "2      931624            -0.543383\n",
      "3     1106320            -0.106042\n",
      "4      748465            -1.001910\n"
     ]
    }
   ],
   "source": [
    "# Assuming `indian_df` is your DataFrame with the 'ANN_INCOME' column\n",
    "\n",
    "# Step 1: Calculate mean and standard deviation of the 'ANN_INCOME' column\n",
    "mean_income = indian_df['ANN_INCOME'].mean()\n",
    "std_income = indian_df['ANN_INCOME'].std()\n",
    "\n",
    "# Step 2: Apply standardization formula (x - mean) / std\n",
    "indian_df['income_standardized'] = indian_df['ANN_INCOME'].apply(lambda x: (x - mean_income) / std_income)\n",
    "\n",
    "# Step 3: Check the result\n",
    "print(indian_df[['ANN_INCOME', 'income_standardized']].head())\n",
    "\n"
   ]
  },
  {
   "cell_type": "code",
   "execution_count": 29,
   "id": "a42f77a1-75d0-4af0-9f4e-23e7f5d23f42",
   "metadata": {},
   "outputs": [
    {
     "name": "stdout",
     "output_type": "stream",
     "text": [
      "   ANN_INCOME  income_standardized\n",
      "0      445344             0.490809\n",
      "1      107634            -1.437759\n",
      "2      502787             0.818849\n",
      "3      585664             1.292137\n",
      "4      705723             1.977760\n"
     ]
    }
   ],
   "source": [
    "#similarly we will do for japanese dataset \n",
    "# Step 1: Calculate mean and standard deviation of the 'ANN_INCOME' column\n",
    "mean_income = japanese_df['ANN_INCOME'].mean()\n",
    "std_income = japanese_df['ANN_INCOME'].std()\n",
    "\n",
    "# Step 2: Apply standardization formula (x - mean) / std\n",
    "japanese_df['income_standardized'] = japanese_df['ANN_INCOME'].apply(lambda x: (x - mean_income) / std_income)\n",
    "\n",
    "# Step 3: Check the result\n",
    "print(japanese_df[['ANN_INCOME', 'income_standardized']].head())"
   ]
  },
  {
   "cell_type": "code",
   "execution_count": 30,
   "id": "a60ae9c5-492e-4437-9cc3-0e4f6dbff98f",
   "metadata": {},
   "outputs": [
    {
     "name": "stdout",
     "output_type": "stream",
     "text": [
      "Indian Dataset Columns: Index(['ID', 'CURR_AGE', 'GENDER', 'ANN_INCOME', 'DT_MAINT', 'age_group',\n",
      "       'gender_numeric', 'age_car', 'age_car_segment', 'income_standardized'],\n",
      "      dtype='object')\n"
     ]
    }
   ],
   "source": [
    "\n",
    "# Assume the 'DT_MAINT' column is already present in your dataset.\n",
    "indian_df.columns = indian_df.columns.str.strip()\n",
    "print(\"Indian Dataset Columns:\", indian_df.columns)\n",
    "# Step 1: Convert 'DT_MAINT' to datetime format\n",
    "indian_df['DT_MAINT'] = pd.to_datetime(indian_df['DT_MAINT'])\n",
    "\n",
    "# Step 2: Calculate the age of the car\n",
    "reference_date = pd.to_datetime('2019-07-07')  # The fixed date for calculation\n",
    "indian_df['age_car'] = (reference_date - indian_df['DT_MAINT']).dt.days\n",
    "\n",
    "# Step 3: Function to categorize age_car\n",
    "def categorize_age_car(age_car):\n",
    "    if age_car < 200:\n",
    "        return 1\n",
    "    elif 200 <= age_car <= 360:\n",
    "        return 2\n",
    "    elif 360 < age_car <= 500:\n",
    "        return 3\n",
    "    else:\n",
    "        return 4  \n",
    "\n",
    "# Apply the categorization function\n",
    "indian_df['age_car_segment'] = indian_df['age_car'].apply(categorize_age_car)\n"
   ]
  },
  {
   "cell_type": "code",
   "execution_count": 31,
   "id": "e9a0a5b3-c75a-406d-9ece-91d796eb8993",
   "metadata": {},
   "outputs": [
    {
     "name": "stdout",
     "output_type": "stream",
     "text": [
      "            ID  CURR_AGE GENDER  ANN_INCOME   DT_MAINT  age_group  \\\n",
      "0   20710B05XL        54      M     1425390 2018-04-20          3   \n",
      "1   89602T51HX        47      M     1678954 2018-08-06          3   \n",
      "2   70190Z52IP        60      M      931624 2017-07-31          4   \n",
      "3   25623V15MU        55      F     1106320 2017-07-31          4   \n",
      "4   36230I68CE        32      F      748465 2019-01-27          1   \n",
      "5   11264G01HZ        48      F     1051927 2018-11-24          3   \n",
      "6   74250S23UO        26      F     1076402 2018-09-22          1   \n",
      "7   26735J66DB        45      F     1481949 2018-05-04          3   \n",
      "8   93404P60ED        55      M     1725607 2018-02-01          4   \n",
      "9   56557A36QV        64      F      312323 2018-04-23          4   \n",
      "10  38353F50LZ        53      M      546574 2019-05-06          3   \n",
      "11  54684T21RX        44      F     1203691 2017-12-07          2   \n",
      "12  46929E04HS        59      F      724688 2019-06-22          4   \n",
      "13  20647X82EQ        27      F      975130 2019-05-03          1   \n",
      "14  34956P25RT        57      F     1422399 2019-04-14          4   \n",
      "15  07090V20JQ        40      F     1558045 2018-06-02          2   \n",
      "16  78392T89DQ        33      M      669737 2019-05-31          1   \n",
      "17  07257K04CB        57      F      774593 2018-12-31          4   \n",
      "18  65658K80PS        59      F      993201 2019-05-03          4   \n",
      "19  69803K32CS        42      F     1050793 2016-10-21          2   \n",
      "\n",
      "    gender_numeric  age_car  age_car_segment  income_standardized  \n",
      "0                0      443                3             0.692730  \n",
      "1                0      335                2             1.327512  \n",
      "2                0      706                4            -0.543383  \n",
      "3                1      706                4            -0.106042  \n",
      "4                1      161                1            -1.001910  \n",
      "5                1      225                2            -0.242212  \n",
      "6                1      288                2            -0.180940  \n",
      "7                1      429                3             0.834322  \n",
      "8                0      521                4             1.444305  \n",
      "9                1      440                3            -2.093765  \n",
      "10               0       62                1            -1.507332  \n",
      "11               1      577                4             0.137720  \n",
      "12               1       15                1            -1.061434  \n",
      "13               1       65                1            -0.434468  \n",
      "14               1       84                1             0.685243  \n",
      "15               1      400                3             1.024824  \n",
      "16               0       37                1            -1.199001  \n",
      "17               1      188                1            -0.936500  \n",
      "18               1       65                1            -0.389229  \n",
      "19               1      989                4            -0.245050  \n"
     ]
    }
   ],
   "source": [
    "print(indian_df.head(20))"
   ]
  },
  {
   "cell_type": "code",
   "execution_count": 33,
   "id": "0c3a3d3e-fe6c-4bb3-b7c9-7ff706bf1cd2",
   "metadata": {},
   "outputs": [
    {
     "name": "stdout",
     "output_type": "stream",
     "text": [
      "            ID  CURR_AGE GENDER  ANN_INCOME  DT_MAINT  age_group  \\\n",
      "0   20710B05XL        54      M    0.692730         3          3   \n",
      "1   89602T51HX        47      M    1.327512         2          3   \n",
      "2   70190Z52IP        60      M   -0.543383         4          4   \n",
      "3   25623V15MU        55      F   -0.106042         4          4   \n",
      "4   36230I68CE        32      F   -1.001910         1          1   \n",
      "5   11264G01HZ        48      F   -0.242212         2          3   \n",
      "6   74250S23UO        26      F   -0.180940         2          1   \n",
      "7   26735J66DB        45      F    0.834322         3          3   \n",
      "8   93404P60ED        55      M    1.444305         4          4   \n",
      "9   56557A36QV        64      F   -2.093765         3          4   \n",
      "10  38353F50LZ        53      M   -1.507332         1          3   \n",
      "11  54684T21RX        44      F    0.137720         4          2   \n",
      "12  46929E04HS        59      F   -1.061434         1          4   \n",
      "13  20647X82EQ        27      F   -0.434468         1          1   \n",
      "14  34956P25RT        57      F    0.685243         1          4   \n",
      "15  07090V20JQ        40      F    1.024824         3          2   \n",
      "16  78392T89DQ        33      M   -1.199001         1          1   \n",
      "17  07257K04CB        57      F   -0.936500         1          4   \n",
      "18  65658K80PS        59      F   -0.389229         1          4   \n",
      "19  69803K32CS        42      F   -0.245050         4          2   \n",
      "20  49525O29YH        40      M    1.124884         3          2   \n",
      "21  25740R14MI        63      M   -0.930973         4          4   \n",
      "22  84250L43IB        47      F    0.718028         3          3   \n",
      "23  84258G83EV        28      F   -0.903102         2          1   \n",
      "24  53254B39QD        55      F    1.799328         1          4   \n",
      "25  97021A36QC        40      F   -0.358081         1          2   \n",
      "26  47560Z98KV        44      F    0.465200         3          2   \n",
      "27  73529T58NE        64      M   -2.017858         3          4   \n",
      "28  30806A42VM        44      F    0.198266         1          2   \n",
      "29  00049S85RE        43      F    0.555001         1          2   \n",
      "30  26721D43SM        39      M    0.581926         4          2   \n",
      "31  82508W18LT        29      F   -0.019113         1          1   \n",
      "32  80438M73AV        63      M   -0.719885         1          4   \n",
      "33  67814A83LG        51      M   -0.175610         2          3   \n",
      "34  87070V97ZO        33      F   -0.657252         3          1   \n",
      "35  79093X41WL        45      F   -0.669774         1          3   \n",
      "36  80170A41DA        58      M    1.649910         2          4   \n",
      "37  92814K57MF        35      M   -0.345982         4          2   \n",
      "38  67811V23ZL        63      F   -0.589992         4          4   \n",
      "39  49928Y38OE        62      F   -0.580599         4          4   \n",
      "40  60766Z46OD        61      F    0.699457         2          4   \n",
      "41  65221A93PY        54      M   -0.735907         2          3   \n",
      "42  67305F19BO        47      M   -0.358554         3          3   \n",
      "43  11497L25KD        56      F   -0.674976         1          4   \n",
      "44  06436U96WN        33      F   -1.114174         3          1   \n",
      "45  00974O72DZ        59      F   -1.016883         1          4   \n",
      "46  09160K49TY        52      F    1.932804         1          3   \n",
      "47  75377M96JT        43      F    0.645703         3          2   \n",
      "48  50391O52JL        27      F   -0.596844         1          1   \n",
      "49  75750M01TD        40      M    0.165158         3          2   \n",
      "\n",
      "    gender_numeric  age_car  age_car_segment  income_standardized  \n",
      "0                0      443                3             0.692730  \n",
      "1                0      335                2             1.327512  \n",
      "2                0      706                4            -0.543383  \n",
      "3                1      706                4            -0.106042  \n",
      "4                1      161                1            -1.001910  \n",
      "5                1      225                2            -0.242212  \n",
      "6                1      288                2            -0.180940  \n",
      "7                1      429                3             0.834322  \n",
      "8                0      521                4             1.444305  \n",
      "9                1      440                3            -2.093765  \n",
      "10               0       62                1            -1.507332  \n",
      "11               1      577                4             0.137720  \n",
      "12               1       15                1            -1.061434  \n",
      "13               1       65                1            -0.434468  \n",
      "14               1       84                1             0.685243  \n",
      "15               1      400                3             1.024824  \n",
      "16               0       37                1            -1.199001  \n",
      "17               1      188                1            -0.936500  \n",
      "18               1       65                1            -0.389229  \n",
      "19               1      989                4            -0.245050  \n",
      "20               0      476                3             1.124884  \n",
      "21               0      712                4            -0.930973  \n",
      "22               1      429                3             0.718028  \n",
      "23               1      260                2            -0.903102  \n",
      "24               1       64                1             1.799328  \n",
      "25               1       13                1            -0.358081  \n",
      "26               1      445                3             0.465200  \n",
      "27               0      409                3            -2.017858  \n",
      "28               1      153                1             0.198266  \n",
      "29               1     -121                1             0.555001  \n",
      "30               0      861                4             0.581926  \n",
      "31               1      -61                1            -0.019113  \n",
      "32               0       84                1            -0.719885  \n",
      "33               0      304                2            -0.175610  \n",
      "34               1      409                3            -0.657252  \n",
      "35               1       41                1            -0.669774  \n",
      "36               0      301                2             1.649910  \n",
      "37               0      783                4            -0.345982  \n",
      "38               1      623                4            -0.589992  \n",
      "39               1      643                4            -0.580599  \n",
      "40               1      211                2             0.699457  \n",
      "41               0      350                2            -0.735907  \n",
      "42               0      446                3            -0.358554  \n",
      "43               1      102                1            -0.674976  \n",
      "44               1      423                3            -1.114174  \n",
      "45               1      131                1            -1.016883  \n",
      "46               1       98                1             1.932804  \n",
      "47               1      428                3             0.645703  \n",
      "48               1       92                1            -0.596844  \n",
      "49               0      477                3             0.165158  \n"
     ]
    }
   ],
   "source": [
    "import pandas as pd\n",
    "\n",
    "\n",
    "# Step 1: Standardize the ANN_INCOME column\n",
    "mean_income = indian_df['ANN_INCOME'].mean()\n",
    "std_income = indian_df['ANN_INCOME'].std()\n",
    "indian_df['ANN_INCOME'] = (indian_df['ANN_INCOME'] - mean_income) / std_income\n",
    "\n",
    "# Step 2: Replace DT_MAINT with age_car_segment\n",
    "indian_df['DT_MAINT'] = indian_df['age_car_segment']\n",
    "\n",
    "# Display the updated DataFrame with the first 50 rows\n",
    "print(indian_df.head(50))\n"
   ]
  },
  {
   "cell_type": "code",
   "execution_count": 34,
   "id": "20b30687-e8af-4652-86ab-0c033e9e3758",
   "metadata": {},
   "outputs": [
    {
     "name": "stdout",
     "output_type": "stream",
     "text": [
      "Total number of records in indian_df: 70000\n",
      "\n",
      "Count of non-null entries in each column:\n",
      "ID                     70000\n",
      "CURR_AGE               70000\n",
      "GENDER                 70000\n",
      "ANN_INCOME             70000\n",
      "DT_MAINT               70000\n",
      "age_group              70000\n",
      "gender_numeric         70000\n",
      "age_car                70000\n",
      "age_car_segment        70000\n",
      "income_standardized    70000\n",
      "dtype: int64\n"
     ]
    }
   ],
   "source": [
    "# Count the number of rows in the indian_df\n",
    "total_count = indian_df.shape[0]\n",
    "\n",
    "# Display the count\n",
    "print(f'Total number of records in indian_df: {total_count}')\n",
    "\n",
    "# Optionally, you can also count the number of records for each column\n",
    "data_count = indian_df.count()\n",
    "\n",
    "# Display the count for each column\n",
    "print(\"\\nCount of non-null entries in each column:\")\n",
    "print(data_count)\n"
   ]
  },
  {
   "cell_type": "code",
   "execution_count": 41,
   "id": "f6ea716c-7bc6-4ad1-8df4-0425e56a5f92",
   "metadata": {},
   "outputs": [
    {
     "name": "stdout",
     "output_type": "stream",
     "text": [
      "Japanese Dataset Classification Report:\n",
      "              precision    recall  f1-score   support\n",
      "\n",
      "           0       0.64      0.60      0.62      5013\n",
      "           1       0.72      0.76      0.74      6987\n",
      "\n",
      "    accuracy                           0.69     12000\n",
      "   macro avg       0.68      0.68      0.68     12000\n",
      "weighted avg       0.69      0.69      0.69     12000\n",
      "\n",
      "Accuracy: 0.69\n",
      "Confusion Matrix:\n",
      "[[2984 2029]\n",
      " [1691 5296]]\n",
      "ROC AUC Score: 0.7500105422195408\n"
     ]
    }
   ],
   "source": [
    "# Defined features and target variables for the Japanese dataset\n",
    "X_japanese = japanese_df[['CURR_AGE', 'gender_numeric', 'ANN_INCOME_INR', 'age_car_segment']]\n",
    "y_japanese = japanese_df['PURCHASE']\n",
    "\n",
    "# Split the Japanese dataset\n",
    "X_train_japanese, X_test_japanese, y_train_japanese, y_test_japanese = train_test_split(X_japanese, y_japanese, test_size=0.3, random_state=42)\n",
    "\n",
    "# Initialize the StandardScaler\n",
    "scaler = StandardScaler()\n",
    "\n",
    "# Fit and transform the training data, and transform the testing data\n",
    "X_train_japanese = scaler.fit_transform(X_train_japanese)\n",
    "X_test_japanese = scaler.transform(X_test_japanese)\n",
    "\n",
    "# Initialize the Logistic Regression model\n",
    "model_japanese = LogisticRegression()\n",
    "\n",
    "# Train the model\n",
    "model_japanese.fit(X_train_japanese, y_train_japanese)\n",
    "\n",
    "# Predict on the test set\n",
    "y_pred_japanese = model_japanese.predict(X_test_japanese)\n",
    "\n",
    "# Evaluate the model\n",
    "print(\"Japanese Dataset Classification Report:\")\n",
    "print(classification_report(y_test_japanese, y_pred_japanese))\n",
    "print(\"Accuracy:\", accuracy_score(y_test_japanese, y_pred_japanese))\n",
    "print(\"Confusion Matrix:\")\n",
    "print(confusion_matrix(y_test_japanese, y_pred_japanese))\n",
    "print(\"ROC AUC Score:\", roc_auc_score(y_test_japanese, model_japanese.predict_proba(X_test_japanese)[:, 1]))\n",
    "\n",
    "\n",
    "\n"
   ]
  },
  {
   "cell_type": "code",
   "execution_count": 42,
   "id": "fd901884-eaa9-4f44-96d9-ca1d8d23a879",
   "metadata": {},
   "outputs": [
    {
     "name": "stdout",
     "output_type": "stream",
     "text": [
      "           Feature  Importance\n",
      "3  age_car_segment    0.872753\n",
      "2   ANN_INCOME_INR    0.423752\n",
      "0         CURR_AGE   -0.117223\n",
      "1   gender_numeric   -0.118834\n"
     ]
    }
   ],
   "source": [
    "# Get feature importance\n",
    "importance = model_japanese.coef_[0]\n",
    "feature_names = X_japanese.columns\n",
    "\n",
    "# Create a DataFrame for better visualization\n",
    "importance_df = pd.DataFrame({'Feature': feature_names, 'Importance': importance})\n",
    "importance_df = importance_df.sort_values(by='Importance', ascending=False)\n",
    "print(importance_df)\n"
   ]
  },
  {
   "cell_type": "code",
   "execution_count": 48,
   "id": "85473871-8c20-4075-bb2e-b265730e90ba",
   "metadata": {},
   "outputs": [
    {
     "name": "stdout",
     "output_type": "stream",
     "text": [
      "Cutoff: 0.01 | Accuracy: 0.5823 | Precision: 0.5823 | Recall: 1.0000 | ROC-AUC: 0.7493\n",
      "Cutoff: 0.02 | Accuracy: 0.5823 | Precision: 0.5823 | Recall: 1.0000 | ROC-AUC: 0.7493\n",
      "Cutoff: 0.03 | Accuracy: 0.5823 | Precision: 0.5823 | Recall: 1.0000 | ROC-AUC: 0.7493\n",
      "Cutoff: 0.04 | Accuracy: 0.5823 | Precision: 0.5823 | Recall: 1.0000 | ROC-AUC: 0.7493\n",
      "Cutoff: 0.05 | Accuracy: 0.5823 | Precision: 0.5823 | Recall: 1.0000 | ROC-AUC: 0.7493\n",
      "Cutoff: 0.06 | Accuracy: 0.5823 | Precision: 0.5823 | Recall: 1.0000 | ROC-AUC: 0.7493\n",
      "Cutoff: 0.07 | Accuracy: 0.5823 | Precision: 0.5823 | Recall: 1.0000 | ROC-AUC: 0.7493\n",
      "Cutoff: 0.08 | Accuracy: 0.5823 | Precision: 0.5823 | Recall: 1.0000 | ROC-AUC: 0.7493\n",
      "Cutoff: 0.09 | Accuracy: 0.5823 | Precision: 0.5823 | Recall: 1.0000 | ROC-AUC: 0.7493\n",
      "Cutoff: 0.10 | Accuracy: 0.5823 | Precision: 0.5823 | Recall: 1.0000 | ROC-AUC: 0.7493\n",
      "Cutoff: 0.11 | Accuracy: 0.5823 | Precision: 0.5823 | Recall: 1.0000 | ROC-AUC: 0.7493\n",
      "Cutoff: 0.12 | Accuracy: 0.5823 | Precision: 0.5823 | Recall: 1.0000 | ROC-AUC: 0.7493\n",
      "Cutoff: 0.13 | Accuracy: 0.5824 | Precision: 0.5824 | Recall: 0.9997 | ROC-AUC: 0.7493\n",
      "Cutoff: 0.14 | Accuracy: 0.5847 | Precision: 0.5837 | Recall: 0.9994 | ROC-AUC: 0.7493\n",
      "Cutoff: 0.15 | Accuracy: 0.5877 | Precision: 0.5855 | Recall: 0.9989 | ROC-AUC: 0.7493\n",
      "Cutoff: 0.16 | Accuracy: 0.5906 | Precision: 0.5873 | Recall: 0.9981 | ROC-AUC: 0.7493\n",
      "Cutoff: 0.17 | Accuracy: 0.5934 | Precision: 0.5891 | Recall: 0.9970 | ROC-AUC: 0.7493\n",
      "Cutoff: 0.18 | Accuracy: 0.5958 | Precision: 0.5907 | Recall: 0.9963 | ROC-AUC: 0.7493\n",
      "Cutoff: 0.19 | Accuracy: 0.5979 | Precision: 0.5922 | Recall: 0.9934 | ROC-AUC: 0.7493\n",
      "Cutoff: 0.20 | Accuracy: 0.6012 | Precision: 0.5944 | Recall: 0.9923 | ROC-AUC: 0.7493\n",
      "Cutoff: 0.21 | Accuracy: 0.6045 | Precision: 0.5966 | Recall: 0.9901 | ROC-AUC: 0.7493\n",
      "Cutoff: 0.22 | Accuracy: 0.6102 | Precision: 0.6005 | Recall: 0.9874 | ROC-AUC: 0.7493\n",
      "Cutoff: 0.23 | Accuracy: 0.6152 | Precision: 0.6040 | Recall: 0.9847 | ROC-AUC: 0.7493\n",
      "Cutoff: 0.24 | Accuracy: 0.6174 | Precision: 0.6062 | Recall: 0.9785 | ROC-AUC: 0.7493\n",
      "Cutoff: 0.25 | Accuracy: 0.6204 | Precision: 0.6089 | Recall: 0.9729 | ROC-AUC: 0.7493\n",
      "Cutoff: 0.26 | Accuracy: 0.6224 | Precision: 0.6110 | Recall: 0.9672 | ROC-AUC: 0.7493\n",
      "Cutoff: 0.27 | Accuracy: 0.6248 | Precision: 0.6134 | Recall: 0.9615 | ROC-AUC: 0.7493\n",
      "Cutoff: 0.28 | Accuracy: 0.6255 | Precision: 0.6150 | Recall: 0.9541 | ROC-AUC: 0.7493\n",
      "Cutoff: 0.29 | Accuracy: 0.6306 | Precision: 0.6193 | Recall: 0.9485 | ROC-AUC: 0.7493\n",
      "Cutoff: 0.30 | Accuracy: 0.6338 | Precision: 0.6226 | Recall: 0.9420 | ROC-AUC: 0.7493\n",
      "Cutoff: 0.31 | Accuracy: 0.6381 | Precision: 0.6261 | Recall: 0.9393 | ROC-AUC: 0.7493\n",
      "Cutoff: 0.32 | Accuracy: 0.6401 | Precision: 0.6284 | Recall: 0.9346 | ROC-AUC: 0.7493\n",
      "Cutoff: 0.33 | Accuracy: 0.6435 | Precision: 0.6316 | Recall: 0.9302 | ROC-AUC: 0.7493\n",
      "Cutoff: 0.34 | Accuracy: 0.6456 | Precision: 0.6339 | Recall: 0.9260 | ROC-AUC: 0.7493\n",
      "Cutoff: 0.35 | Accuracy: 0.6476 | Precision: 0.6361 | Recall: 0.9226 | ROC-AUC: 0.7493\n",
      "Cutoff: 0.36 | Accuracy: 0.6512 | Precision: 0.6396 | Recall: 0.9181 | ROC-AUC: 0.7493\n",
      "Cutoff: 0.37 | Accuracy: 0.6538 | Precision: 0.6427 | Recall: 0.9127 | ROC-AUC: 0.7493\n",
      "Cutoff: 0.38 | Accuracy: 0.6584 | Precision: 0.6475 | Recall: 0.9071 | ROC-AUC: 0.7493\n",
      "Cutoff: 0.39 | Accuracy: 0.6628 | Precision: 0.6524 | Recall: 0.9011 | ROC-AUC: 0.7493\n",
      "Cutoff: 0.40 | Accuracy: 0.6675 | Precision: 0.6578 | Recall: 0.8941 | ROC-AUC: 0.7493\n",
      "Cutoff: 0.41 | Accuracy: 0.6719 | Precision: 0.6637 | Recall: 0.8849 | ROC-AUC: 0.7493\n",
      "Cutoff: 0.42 | Accuracy: 0.6750 | Precision: 0.6694 | Recall: 0.8728 | ROC-AUC: 0.7493\n",
      "Cutoff: 0.43 | Accuracy: 0.6793 | Precision: 0.6764 | Recall: 0.8612 | ROC-AUC: 0.7493\n",
      "Cutoff: 0.44 | Accuracy: 0.6827 | Precision: 0.6831 | Recall: 0.8490 | ROC-AUC: 0.7493\n",
      "Cutoff: 0.45 | Accuracy: 0.6845 | Precision: 0.6893 | Recall: 0.8343 | ROC-AUC: 0.7493\n",
      "Cutoff: 0.46 | Accuracy: 0.6831 | Precision: 0.6934 | Recall: 0.8169 | ROC-AUC: 0.7493\n",
      "Cutoff: 0.47 | Accuracy: 0.6844 | Precision: 0.6993 | Recall: 0.8035 | ROC-AUC: 0.7493\n",
      "Cutoff: 0.48 | Accuracy: 0.6855 | Precision: 0.7055 | Recall: 0.7895 | ROC-AUC: 0.7493\n",
      "Cutoff: 0.49 | Accuracy: 0.6884 | Precision: 0.7145 | Recall: 0.7742 | ROC-AUC: 0.7493\n",
      "Cutoff: 0.50 | Accuracy: 0.6913 | Precision: 0.7237 | Recall: 0.7598 | ROC-AUC: 0.7493\n",
      "Cutoff: 0.51 | Accuracy: 0.6903 | Precision: 0.7310 | Recall: 0.7407 | ROC-AUC: 0.7493\n",
      "Cutoff: 0.52 | Accuracy: 0.6880 | Precision: 0.7377 | Recall: 0.7202 | ROC-AUC: 0.7493\n",
      "Cutoff: 0.53 | Accuracy: 0.6888 | Precision: 0.7453 | Recall: 0.7073 | ROC-AUC: 0.7493\n",
      "Cutoff: 0.54 | Accuracy: 0.6898 | Precision: 0.7531 | Recall: 0.6951 | ROC-AUC: 0.7493\n",
      "Cutoff: 0.55 | Accuracy: 0.6897 | Precision: 0.7588 | Recall: 0.6846 | ROC-AUC: 0.7493\n",
      "Cutoff: 0.56 | Accuracy: 0.6880 | Precision: 0.7646 | Recall: 0.6705 | ROC-AUC: 0.7493\n",
      "Cutoff: 0.57 | Accuracy: 0.6881 | Precision: 0.7705 | Recall: 0.6612 | ROC-AUC: 0.7493\n",
      "Cutoff: 0.58 | Accuracy: 0.6866 | Precision: 0.7745 | Recall: 0.6514 | ROC-AUC: 0.7493\n",
      "Cutoff: 0.59 | Accuracy: 0.6853 | Precision: 0.7791 | Recall: 0.6415 | ROC-AUC: 0.7493\n",
      "Cutoff: 0.60 | Accuracy: 0.6836 | Precision: 0.7827 | Recall: 0.6320 | ROC-AUC: 0.7493\n",
      "Cutoff: 0.61 | Accuracy: 0.6817 | Precision: 0.7878 | Recall: 0.6206 | ROC-AUC: 0.7493\n",
      "Cutoff: 0.62 | Accuracy: 0.6793 | Precision: 0.7925 | Recall: 0.6084 | ROC-AUC: 0.7493\n",
      "Cutoff: 0.63 | Accuracy: 0.6770 | Precision: 0.7980 | Recall: 0.5961 | ROC-AUC: 0.7493\n",
      "Cutoff: 0.64 | Accuracy: 0.6736 | Precision: 0.8025 | Recall: 0.5828 | ROC-AUC: 0.7493\n",
      "Cutoff: 0.65 | Accuracy: 0.6676 | Precision: 0.8070 | Recall: 0.5639 | ROC-AUC: 0.7493\n",
      "Cutoff: 0.66 | Accuracy: 0.6606 | Precision: 0.8112 | Recall: 0.5436 | ROC-AUC: 0.7493\n",
      "Cutoff: 0.67 | Accuracy: 0.6521 | Precision: 0.8138 | Recall: 0.5218 | ROC-AUC: 0.7493\n",
      "Cutoff: 0.68 | Accuracy: 0.6458 | Precision: 0.8201 | Recall: 0.5018 | ROC-AUC: 0.7493\n",
      "Cutoff: 0.69 | Accuracy: 0.6370 | Precision: 0.8236 | Recall: 0.4792 | ROC-AUC: 0.7493\n",
      "Cutoff: 0.70 | Accuracy: 0.6285 | Precision: 0.8301 | Recall: 0.4551 | ROC-AUC: 0.7493\n",
      "Cutoff: 0.71 | Accuracy: 0.6184 | Precision: 0.8337 | Recall: 0.4305 | ROC-AUC: 0.7493\n",
      "Cutoff: 0.72 | Accuracy: 0.6098 | Precision: 0.8398 | Recall: 0.4075 | ROC-AUC: 0.7493\n",
      "Cutoff: 0.73 | Accuracy: 0.5991 | Precision: 0.8474 | Recall: 0.3798 | ROC-AUC: 0.7493\n",
      "Cutoff: 0.74 | Accuracy: 0.5873 | Precision: 0.8536 | Recall: 0.3514 | ROC-AUC: 0.7493\n",
      "Cutoff: 0.75 | Accuracy: 0.5777 | Precision: 0.8582 | Recall: 0.3290 | ROC-AUC: 0.7493\n",
      "Cutoff: 0.76 | Accuracy: 0.5701 | Precision: 0.8662 | Recall: 0.3094 | ROC-AUC: 0.7493\n",
      "Cutoff: 0.77 | Accuracy: 0.5622 | Precision: 0.8717 | Recall: 0.2908 | ROC-AUC: 0.7493\n",
      "Cutoff: 0.78 | Accuracy: 0.5541 | Precision: 0.8794 | Recall: 0.2714 | ROC-AUC: 0.7493\n",
      "Cutoff: 0.79 | Accuracy: 0.5463 | Precision: 0.8836 | Recall: 0.2542 | ROC-AUC: 0.7493\n",
      "Cutoff: 0.80 | Accuracy: 0.5377 | Precision: 0.8842 | Recall: 0.2372 | ROC-AUC: 0.7493\n",
      "Cutoff: 0.81 | Accuracy: 0.5293 | Precision: 0.8828 | Recall: 0.2210 | ROC-AUC: 0.7493\n",
      "Cutoff: 0.82 | Accuracy: 0.5228 | Precision: 0.8814 | Recall: 0.2084 | ROC-AUC: 0.7493\n",
      "Cutoff: 0.83 | Accuracy: 0.5155 | Precision: 0.8876 | Recall: 0.1922 | ROC-AUC: 0.7493\n",
      "Cutoff: 0.84 | Accuracy: 0.5060 | Precision: 0.8972 | Recall: 0.1712 | ROC-AUC: 0.7493\n",
      "Cutoff: 0.85 | Accuracy: 0.4944 | Precision: 0.9000 | Recall: 0.1481 | ROC-AUC: 0.7493\n",
      "Cutoff: 0.86 | Accuracy: 0.4823 | Precision: 0.9006 | Recall: 0.1245 | ROC-AUC: 0.7493\n",
      "Cutoff: 0.87 | Accuracy: 0.4707 | Precision: 0.9034 | Recall: 0.1018 | ROC-AUC: 0.7493\n",
      "Cutoff: 0.88 | Accuracy: 0.4599 | Precision: 0.9161 | Recall: 0.0797 | ROC-AUC: 0.7493\n",
      "Cutoff: 0.89 | Accuracy: 0.4528 | Precision: 0.9218 | Recall: 0.0658 | ROC-AUC: 0.7493\n",
      "Cutoff: 0.90 | Accuracy: 0.4478 | Precision: 0.9188 | Recall: 0.0567 | ROC-AUC: 0.7493\n",
      "Cutoff: 0.91 | Accuracy: 0.4449 | Precision: 0.9179 | Recall: 0.0512 | ROC-AUC: 0.7493\n",
      "Cutoff: 0.92 | Accuracy: 0.4397 | Precision: 0.9122 | Recall: 0.0416 | ROC-AUC: 0.7493\n",
      "Cutoff: 0.93 | Accuracy: 0.4343 | Precision: 0.9160 | Recall: 0.0312 | ROC-AUC: 0.7493\n",
      "Cutoff: 0.94 | Accuracy: 0.4278 | Precision: 0.9054 | Recall: 0.0192 | ROC-AUC: 0.7493\n",
      "Cutoff: 0.95 | Accuracy: 0.4206 | Precision: 0.9250 | Recall: 0.0053 | ROC-AUC: 0.7493\n",
      "Cutoff: 0.96 | Accuracy: 0.4178 | Precision: 0.0000 | Recall: 0.0000 | ROC-AUC: 0.7493\n",
      "Cutoff: 0.97 | Accuracy: 0.4178 | Precision: 0.0000 | Recall: 0.0000 | ROC-AUC: 0.7493\n",
      "Cutoff: 0.98 | Accuracy: 0.4178 | Precision: 0.0000 | Recall: 0.0000 | ROC-AUC: 0.7493\n",
      "Cutoff: 0.99 | Accuracy: 0.4178 | Precision: 0.0000 | Recall: 0.0000 | ROC-AUC: 0.7493\n",
      "\n",
      "Best cutoff value based on accuracy for Japanese dataset: 0.50\n"
     ]
    }
   ],
   "source": [
    "# Import necessary libraries\n",
    "from sklearn.metrics import precision_score, recall_score, accuracy_score, roc_auc_score\n",
    "\n",
    "# Evaluate model performance at different cutoffs\n",
    "cutoffs = np.arange(0.01, 1, 0.01)  # Define cutoff values from 0.01 to 0.99\n",
    "accuracy_jp = []\n",
    "precision_jp = []\n",
    "recall_jp = []\n",
    "roc_auc_jp = []\n",
    "\n",
    "# Loop through each cutoff value and calculate performance metrics\n",
    "for cutoff in cutoffs:\n",
    "    y_pred_jp = np.where(y_probs_jp > cutoff, 1, 0)  # Assign class labels based on cutoff\n",
    "    \n",
    "    acc = accuracy_score(y_test_jp, y_pred_jp)\n",
    "    prec = precision_score(y_test_jp, y_pred_jp, zero_division=0)  # Avoid undefined precision\n",
    "    rec = recall_score(y_test_jp, y_pred_jp)\n",
    "    roc_auc = roc_auc_score(y_test_jp, y_probs_jp)\n",
    "    \n",
    "    accuracy_jp.append(acc)\n",
    "    precision_jp.append(prec)\n",
    "    recall_jp.append(rec)\n",
    "    roc_auc_jp.append(roc_auc)\n",
    "    \n",
    "    # Print the cutoff value and corresponding performance metrics\n",
    "    print(f\"Cutoff: {cutoff:.2f} | Accuracy: {acc:.4f} | Precision: {prec:.4f} | Recall: {rec:.4f} | ROC-AUC: {roc_auc:.4f}\")\n",
    "\n",
    "# Find the best cutoff based on desired metric (e.g., accuracy)\n",
    "best_cutoff_index_jp = np.argmax(accuracy_jp)  # You can change this to precision/recall depending on the metric\n",
    "best_cutoff_jp = cutoffs[best_cutoff_index_jp]\n",
    "\n",
    "print(f\"\\nBest cutoff value based on accuracy for Japanese dataset: {best_cutoff_jp:.2f}\")\n"
   ]
  },
  {
   "cell_type": "code",
   "execution_count": 50,
   "id": "986edf60-8b42-4e16-b128-2bdd46364aca",
   "metadata": {},
   "outputs": [
    {
     "name": "stdout",
     "output_type": "stream",
     "text": [
      "Intercept and Coefficients for the Japanese Dataset:\n",
      "   Intercept  age_group  gender_numeric  age_car_segment  income_standardized\n",
      "0  -1.573318  -0.099991       -0.229322          0.96041             0.419205\n"
     ]
    }
   ],
   "source": [
    "# Prepare your features and target variable\n",
    "X_jp = japanese_df[['age_group', 'gender_numeric', 'age_car_segment', 'income_standardized']]\n",
    "y_jp = japanese_df['PURCHASE']  # Replace with your target column name\n",
    "\n",
    "# Split the dataset into training and testing sets\n",
    "X_train_jp, X_test_jp, y_train_jp, y_test_jp = train_test_split(X_jp, y_jp, test_size=0.2, random_state=42)\n",
    "\n",
    "# Create and fit the logistic regression model\n",
    "model_jp = LogisticRegression()\n",
    "model_jp.fit(X_train_jp, y_train_jp)\n",
    "\n",
    "# Get the intercept and coefficients\n",
    "intercept_jp = model_jp.intercept_[0]  # Get the intercept\n",
    "coefficients_jp = model_jp.coef_[0]  # Get the coefficients for each feature\n",
    "\n",
    "# Create a dictionary to display the intercept and coefficients\n",
    "coefficients_dict_jp = {\n",
    "    'Intercept': intercept_jp,\n",
    "    'age_group': coefficients_jp[0],\n",
    "    'gender_numeric': coefficients_jp[1],\n",
    "    'age_car_segment': coefficients_jp[2],\n",
    "    'income_standardized': coefficients_jp[3]\n",
    "}\n",
    "\n",
    "# Display the results\n",
    "coefficients_df_jp = pd.DataFrame(coefficients_dict_jp, index=[0])\n",
    "print(\"Intercept and Coefficients for the Japanese Dataset:\")\n",
    "print(coefficients_df_jp)\n"
   ]
  },
  {
   "cell_type": "code",
   "execution_count": null,
   "id": "f7679825-8b78-4a84-ab6c-74463ed788a7",
   "metadata": {},
   "outputs": [],
   "source": []
  },
  {
   "cell_type": "code",
   "execution_count": 51,
   "id": "88a0110f-7ba6-4308-8391-e95a4f1bc319",
   "metadata": {},
   "outputs": [
    {
     "name": "stdout",
     "output_type": "stream",
     "text": [
      "           ID  CURR_AGE GENDER  ANN_INCOME  DT_MAINT  age_group  \\\n",
      "0  20710B05XL        54      M    0.692730         3          3   \n",
      "1  89602T51HX        47      M    1.327512         2          3   \n",
      "2  70190Z52IP        60      M   -0.543383         4          4   \n",
      "3  25623V15MU        55      F   -0.106042         4          4   \n",
      "4  36230I68CE        32      F   -1.001910         1          1   \n",
      "\n",
      "   gender_numeric  age_car  age_car_segment  income_standardized  \\\n",
      "0               0      443                3             0.692730   \n",
      "1               0      335                2             1.327512   \n",
      "2               0      706                4            -0.543383   \n",
      "3               1      706                4            -0.106042   \n",
      "4               1      161                1            -1.001910   \n",
      "\n",
      "   purchase_probability  purchase  \n",
      "0                  0.79         1  \n",
      "1                  0.65         1  \n",
      "2                  0.84         1  \n",
      "3                  0.83         1  \n",
      "4                  0.20         1  \n"
     ]
    }
   ],
   "source": [
    "import numpy as np\n",
    "\n",
    "# Coefficients from the logistic regression model trained on the Japanese dataset\n",
    "intercept_jp = -1.573318\n",
    "coeff_age_group_jp = -0.099991\n",
    "coeff_gender_jp = -0.229322\n",
    "coeff_age_car_segment_jp = 0.96041\n",
    "coeff_income_standardized_jp = 0.419205\n",
    "\n",
    "# Function to calculate probability for each row using coefficients from the Japanese dataset\n",
    "def calculate_purchase_probability_jp(age_group, gender_numeric, income_standardized, age_car_segment):\n",
    "    # Logistic regression equation\n",
    "    logit = (intercept_jp \n",
    "             + coeff_age_group_jp * age_group\n",
    "             + coeff_gender_jp * gender_numeric \n",
    "             + coeff_income_standardized_jp * income_standardized \n",
    "             + coeff_age_car_segment_jp * age_car_segment)\n",
    "    \n",
    "    # Apply logistic function\n",
    "    probability = 1 / (1 + np.exp(-logit))\n",
    "    \n",
    "    return round(probability, 2)  # Round to 2 decimal places for better precision\n",
    "\n",
    "# Apply the function to the entire Indian dataset (indian_df)\n",
    "indian_df['purchase_probability'] = indian_df.apply(\n",
    "    lambda row: calculate_purchase_probability_jp(row['age_group'], \n",
    "                                                  row['gender_numeric'], \n",
    "                                                  row['income_standardized'], \n",
    "                                                  row['age_car_segment']),\n",
    "    axis=1\n",
    ")\n",
    "\n",
    "# View the first 5 rows of the updated dataframe\n",
    "print(indian_df.head(5))\n",
    "\n",
    "# Optionally, save the updated dataframe with probabilities to Excel\n",
    "indian_df.to_excel(\"indian_df_with_purchase_probabilities.xlsx\", index=False)\n"
   ]
  },
  {
   "cell_type": "code",
   "execution_count": 52,
   "id": "74632381-1457-4a1a-88be-f2c529c7c631",
   "metadata": {},
   "outputs": [
    {
     "name": "stdout",
     "output_type": "stream",
     "text": [
      "    CURR_AGE  gender_numeric  ANN_INCOME  age_car_segment  \\\n",
      "0         54               0    0.692730                3   \n",
      "1         47               0    1.327512                2   \n",
      "2         60               0   -0.543383                4   \n",
      "3         55               1   -0.106042                4   \n",
      "4         32               1   -1.001910                1   \n",
      "5         48               1   -0.242212                2   \n",
      "6         26               1   -0.180940                2   \n",
      "7         45               1    0.834322                3   \n",
      "8         55               0    1.444305                4   \n",
      "9         64               1   -2.093765                3   \n",
      "10        53               0   -1.507332                1   \n",
      "11        44               1    0.137720                4   \n",
      "12        59               1   -1.061434                1   \n",
      "13        27               1   -0.434468                1   \n",
      "14        57               1    0.685243                1   \n",
      "15        40               1    1.024824                3   \n",
      "16        33               0   -1.199001                1   \n",
      "17        57               1   -0.936500                1   \n",
      "18        59               1   -0.389229                1   \n",
      "19        42               1   -0.245050                4   \n",
      "20        40               0    1.124884                3   \n",
      "21        63               0   -0.930973                4   \n",
      "22        47               1    0.718028                3   \n",
      "23        28               1   -0.903102                2   \n",
      "24        55               1    1.799328                1   \n",
      "25        40               1   -0.358081                1   \n",
      "26        44               1    0.465200                3   \n",
      "27        64               0   -2.017858                3   \n",
      "28        44               1    0.198266                1   \n",
      "29        43               1    0.555001                1   \n",
      "30        39               0    0.581926                4   \n",
      "31        29               1   -0.019113                1   \n",
      "32        63               0   -0.719885                1   \n",
      "33        51               0   -0.175610                2   \n",
      "34        33               1   -0.657252                3   \n",
      "35        45               1   -0.669774                1   \n",
      "36        58               0    1.649910                2   \n",
      "37        35               0   -0.345982                4   \n",
      "38        63               1   -0.589992                4   \n",
      "39        62               1   -0.580599                4   \n",
      "40        61               1    0.699457                2   \n",
      "41        54               0   -0.735907                2   \n",
      "42        47               0   -0.358554                3   \n",
      "43        56               1   -0.674976                1   \n",
      "44        33               1   -1.114174                3   \n",
      "45        59               1   -1.016883                1   \n",
      "46        52               1    1.932804                1   \n",
      "47        43               1    0.645703                3   \n",
      "48        27               1   -0.596844                1   \n",
      "49        40               0    0.165158                3   \n",
      "\n",
      "    purchase_probability  purchase  \n",
      "0                   0.79         1  \n",
      "1                   0.65         1  \n",
      "2                   0.84         1  \n",
      "3                   0.83         1  \n",
      "4                   0.20         0  \n",
      "5                   0.43         1  \n",
      "6                   0.49         1  \n",
      "7                   0.76         1  \n",
      "8                   0.92         1  \n",
      "9                   0.45         1  \n",
      "10                  0.18         0  \n",
      "11                  0.87         1  \n",
      "12                  0.16         0  \n",
      "13                  0.25         1  \n",
      "14                  0.28         1  \n",
      "15                  0.79         1  \n",
      "16                  0.23         1  \n",
      "17                  0.16         0  \n",
      "18                  0.20         0  \n",
      "19                  0.85         1  \n",
      "20                  0.83         1  \n",
      "21                  0.81         1  \n",
      "22                  0.75         1  \n",
      "23                  0.41         1  \n",
      "24                  0.38         1  \n",
      "25                  0.23         1  \n",
      "26                  0.75         1  \n",
      "27                  0.52         1  \n",
      "28                  0.28         1  \n",
      "29                  0.31         1  \n",
      "30                  0.91         1  \n",
      "31                  0.28         1  \n",
      "32                  0.21         1  \n",
      "33                  0.49         1  \n",
      "34                  0.67         1  \n",
      "35                  0.19         0  \n",
      "36                  0.65         1  \n",
      "37                  0.87         1  \n",
      "38                  0.80         1  \n",
      "39                  0.80         1  \n",
      "40                  0.50         1  \n",
      "41                  0.44         1  \n",
      "42                  0.70         1  \n",
      "43                  0.18         0  \n",
      "44                  0.63         1  \n",
      "45                  0.16         0  \n",
      "46                  0.42         1  \n",
      "47                  0.76         1  \n",
      "48                  0.23         1  \n",
      "49                  0.76         1  \n"
     ]
    }
   ],
   "source": [
    "# Apply the if-else condition to assign 1 or 0 based on the cutoff value of 0.2\n",
    "indian_df['purchase'] = indian_df['purchase_probability'].apply(lambda x: 1 if x > 0.2 else 0)\n",
    "\n",
    "# Show the first 50 rows with the new 'purchase' column\n",
    "print(indian_df[['CURR_AGE', 'gender_numeric', 'ANN_INCOME', 'age_car_segment', 'purchase_probability', 'purchase']].head(50))\n",
    "\n",
    "# Optionally, save the updated dataframe to Excel\n",
    "indian_df.to_excel(\"indian_df_with_purchase_predictions.xlsx\", index=False)\n",
    "\n"
   ]
  },
  {
   "cell_type": "code",
   "execution_count": 53,
   "id": "dee3fa11-9317-4445-8a40-c5fe97ecf4ef",
   "metadata": {},
   "outputs": [
    {
     "name": "stdout",
     "output_type": "stream",
     "text": [
      "Count of Purchase = 0: 3601\n",
      "Count of Purchase = 1: 66399\n"
     ]
    }
   ],
   "source": [
    "# Count the occurrences of 0 and 1 in the 'purchase' column\n",
    "purchase_counts = indian_df['purchase'].value_counts()\n",
    "\n",
    "# Print the count of 0 and 1\n",
    "print(\"Count of Purchase = 0:\", purchase_counts[0])\n",
    "print(\"Count of Purchase = 1:\", purchase_counts[1])\n"
   ]
  },
  {
   "cell_type": "code",
   "execution_count": 55,
   "id": "fa943b94-e931-41de-a8b6-c68051841ed1",
   "metadata": {},
   "outputs": [
    {
     "data": {
      "image/png": "[encoded data removed]",
      "text/plain": [
       "<Figure size 800x600 with 1 Axes>"
      ]
     },
     "metadata": {},
     "output_type": "display_data"
    }
   ],
   "source": [
    "import matplotlib.pyplot as plt\n",
    "import seaborn as sns\n",
    "\n",
    "# Bar plot of purchase counts\n",
    "plt.figure(figsize=(8, 6))\n",
    "sns.countplot(x='purchase', data=indian_df, palette='Blues')\n",
    "plt.title('Counts of Purchase = 0 and 1')\n",
    "plt.xlabel('Purchase (0 = No, 1 = Yes)')\n",
    "plt.ylabel('Count')\n",
    "plt.show()\n"
   ]
  },
  {
   "cell_type": "code",
   "execution_count": 56,
   "id": "6cfe5dc7-e470-4ac2-8bb7-a4f2af37ecef",
   "metadata": {},
   "outputs": [
    {
     "data": {
      "image/png": "[encoded data removed]",
      "text/plain": [
       "<Figure size 800x800 with 1 Axes>"
      ]
     },
     "metadata": {},
     "output_type": "display_data"
    }
   ],
   "source": [
    "# Pie chart for purchase proportions\n",
    "purchase_counts = indian_df['purchase'].value_counts()\n",
    "plt.figure(figsize=(8, 8))\n",
    "plt.pie(purchase_counts, labels=['No Purchase (0)', 'Purchase (1)'], autopct='%1.1f%%', startangle=90, colors=['skyblue', 'lightgreen'])\n",
    "plt.title('Proportion of Purchase Predictions')\n",
    "plt.show()\n"
   ]
  },
  {
   "cell_type": "code",
   "execution_count": 58,
   "id": "397de1c6-f2b5-420b-9cfe-82d391c32e23",
   "metadata": {},
   "outputs": [
    {
     "name": "stderr",
     "output_type": "stream",
     "text": [
      "C:\\Users\\chakr\\anaconda3\\Lib\\site-packages\\seaborn\\_oldcore.py:1119: FutureWarning: use_inf_as_na option is deprecated and will be removed in a future version. Convert inf values to NaN before operating instead.\n",
      "  with pd.option_context('mode.use_inf_as_na', True):\n"
     ]
    },
    {
     "data": {
      "image/png": "[encoded data removed]",
      "text/plain": [
       "<Figure size 800x600 with 1 Axes>"
      ]
     },
     "metadata": {},
     "output_type": "display_data"
    }
   ],
   "source": [
    "# Histogram of purchase probabilities\n",
    "plt.figure(figsize=(8, 6))\n",
    "sns.histplot(indian_df['purchase_probability'], bins=20, kde=True, color='purple')\n",
    "plt.title('Distribution of Purchase Probabilities')\n",
    "plt.xlabel('Purchase Probability')\n",
    "plt.ylabel('Frequency')\n",
    "plt.show()\n",
    "\n",
    "# Replace infinite values in the dataset with NaN\n",
    "indian_df.replace([np.inf, -np.inf], np.nan, inplace=True)\n",
    "\n",
    "# After replacing, you might also want to drop rows with NaN values or fill them:\n",
    "# Drop rows with NaN values (optional)\n",
    "indian_df.dropna(inplace=True)\n",
    "\n"
   ]
  },
  {
   "cell_type": "code",
   "execution_count": 59,
   "id": "96b18045-1e45-4457-b171-becdead49f96",
   "metadata": {},
   "outputs": [
    {
     "data": {
      "image/png": "[encoded data removed]",
      "text/plain": [
       "<Figure size 800x600 with 1 Axes>"
      ]
     },
     "metadata": {},
     "output_type": "display_data"
    }
   ],
   "source": [
    "# Box plot of income_standardized vs purchase\n",
    "plt.figure(figsize=(8, 6))\n",
    "sns.boxplot(x='purchase', y='income_standardized', data=indian_df, palette='Set2')\n",
    "plt.title('Income Standardized vs Purchase')\n",
    "plt.xlabel('Purchase (0 = No, 1 = Yes)')\n",
    "plt.ylabel('Income Standardized')\n",
    "plt.show()\n"
   ]
  },
  {
   "cell_type": "code",
   "execution_count": 60,
   "id": "fbae3432-3342-4627-aa70-5e026658f7ac",
   "metadata": {},
   "outputs": [
    {
     "data": {
      "image/png": "[encoded data removed]",
      "text/plain": [
       "<Figure size 800x600 with 1 Axes>"
      ]
     },
     "metadata": {},
     "output_type": "display_data"
    }
   ],
   "source": [
    "# Box plot of age_car_segment vs purchase\n",
    "plt.figure(figsize=(8, 6))\n",
    "sns.boxplot(x='purchase', y='age_car_segment', data=indian_df, palette='Set1')\n",
    "plt.title('Age Car Segment vs Purchase')\n",
    "plt.xlabel('Purchase (0 = No, 1 = Yes)')\n",
    "plt.ylabel('Age Car Segment')\n",
    "plt.show()\n"
   ]
  }
 ],
 "metadata": {
  "kernelspec": {
   "display_name": "Python 3 (ipykernel)",
   "language": "python",
   "name": "python3"
  },
  "language_info": {
   "codemirror_mode": {
    "name": "ipython",
    "version": 3
   },
   "file_extension": ".py",
   "mimetype": "text/x-python",
   "name": "python",
   "nbconvert_exporter": "python",
   "pygments_lexer": "ipython3",
   "version": "3.11.7"
  }
 },
 "nbformat": 4,
 "nbformat_minor": 5
}
